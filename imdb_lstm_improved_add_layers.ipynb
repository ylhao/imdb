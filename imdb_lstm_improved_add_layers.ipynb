{
 "cells": [
  {
   "cell_type": "code",
   "execution_count": 2,
   "metadata": {},
   "outputs": [
    {
     "name": "stderr",
     "output_type": "stream",
     "text": [
      "Using TensorFlow backend.\n"
     ]
    }
   ],
   "source": [
    "'''Trains a Bidirectional LSTM on the IMDB sentiment classification task.\n",
    "Output after 4 epochs on CPU: ~0.8146\n",
    "Time per epoch on CPU (Core i7): ~150s.\n",
    "'''\n",
    "\n",
    "from __future__ import print_function\n",
    "import numpy as np\n",
    "import keras\n",
    "from keras.preprocessing import sequence\n",
    "from keras.models import Sequential\n",
    "from keras.layers import Dense, Dropout, Embedding, LSTM, Bidirectional\n",
    "from keras.datasets import imdb\n",
    "import matplotlib.pyplot as plt\n",
    "%matplotlib inline"
   ]
  },
  {
   "cell_type": "code",
   "execution_count": 3,
   "metadata": {},
   "outputs": [
    {
     "name": "stdout",
     "output_type": "stream",
     "text": [
      "Loading data...\n",
      "25000 train sequences\n",
      "25000 test sequences\n",
      "Pad sequences (samples x time)\n",
      "x_train shape: (25000, 100)\n",
      "x_test shape: (25000, 100)\n"
     ]
    }
   ],
   "source": [
    "max_features = 20000\n",
    "maxlen = 100\n",
    "batch_size = 32\n",
    "\n",
    "print('Loading data...')\n",
    "(x_train, y_train), (x_test, y_test) = imdb.load_data(num_words=max_features)\n",
    "print(len(x_train), 'train sequences')\n",
    "print(len(x_test), 'test sequences')\n",
    "\n",
    "print('Pad sequences (samples x time)')\n",
    "x_train = sequence.pad_sequences(x_train, maxlen=maxlen)\n",
    "x_test = sequence.pad_sequences(x_test, maxlen=maxlen)\n",
    "print('x_train shape:', x_train.shape)\n",
    "print('x_test shape:', x_test.shape)\n",
    "y_train = np.array(y_train)\n",
    "y_test = np.array(y_test)"
   ]
  },
  {
   "cell_type": "code",
   "execution_count": 4,
   "metadata": {},
   "outputs": [],
   "source": [
    "model = Sequential()\n",
    "model.add(Embedding(max_features, 128, input_length=maxlen))\n",
    "#  return_sequences=True: 在所有步都产生输出\n",
    "model.add(Bidirectional(LSTM(64, activation='tanh', return_sequences=True)))\n",
    "model.add(Bidirectional(LSTM(64, activation='tanh', return_sequences=False)))\n",
    "model.add(Dropout(0.5))\n",
    "model.add(Dense(1, activation='sigmoid'))"
   ]
  },
  {
   "cell_type": "code",
   "execution_count": 5,
   "metadata": {},
   "outputs": [],
   "source": [
    "model.compile('adam', 'binary_crossentropy', metrics=['accuracy'])"
   ]
  },
  {
   "cell_type": "code",
   "execution_count": 6,
   "metadata": {},
   "outputs": [],
   "source": [
    "class LossHistory(keras.callbacks.Callback):\n",
    "    \n",
    "    def on_train_begin(self, logs={}):\n",
    "        self.losses = {'batch': [], 'epoch': []}\n",
    "        self.accuracy = {'batch': [], 'epoch': []}\n",
    "        self.val_loss = {'batch': [], 'epoch': []}\n",
    "        self.val_acc = {'batch': [], 'epoch': []}\n",
    "\n",
    "    def on_batch_end(self, batch, logs={}):\n",
    "        self.losses['batch'].append(logs.get('loss'))\n",
    "        self.accuracy['batch'].append(logs.get('acc'))\n",
    "        self.val_loss['batch'].append(logs.get('val_loss'))\n",
    "        self.val_acc['batch'].append(logs.get('val_acc'))\n",
    "\n",
    "    def on_epoch_end(self, batch, logs={}):\n",
    "        self.losses['epoch'].append(logs.get('loss'))\n",
    "        self.accuracy['epoch'].append(logs.get('acc'))\n",
    "        self.val_loss['epoch'].append(logs.get('val_loss'))\n",
    "        self.val_acc['epoch'].append(logs.get('val_acc'))\n",
    "\n",
    "    def plot_loss(self, loss_type='epoch'):\n",
    "        iters = range(len(self.losses[loss_type]))\n",
    "        plt.figure()\n",
    "        plt.plot(iters, self.accuracy[loss_type], 'r', label='train acc')\n",
    "        plt.plot(iters, self.losses[loss_type], 'g', label='train loss')\n",
    "        if loss_type == 'epoch':\n",
    "            plt.plot(iters, self.val_acc[loss_type], 'b', label='val acc')\n",
    "            plt.plot(iters, self.val_loss[loss_type], 'k', label='val loss')\n",
    "        plt.grid(True)\n",
    "        plt.xlabel(loss_type)\n",
    "        plt.ylabel('acc-loss')\n",
    "        plt.legend(loc='upper right')\n",
    "        plt.show()\n",
    "\n",
    "history = LossHistory()"
   ]
  },
  {
   "cell_type": "code",
   "execution_count": 7,
   "metadata": {
    "scrolled": true
   },
   "outputs": [
    {
     "name": "stdout",
     "output_type": "stream",
     "text": [
      "Train...\n",
      "Train on 25000 samples, validate on 25000 samples\n",
      "Epoch 1/15\n",
      "25000/25000 [==============================] - 570s 23ms/step - loss: 0.4076 - acc: 0.8089 - val_loss: 0.3540 - val_acc: 0.8454\n",
      "Epoch 2/15\n",
      "25000/25000 [==============================] - 517s 21ms/step - loss: 0.2222 - acc: 0.9145 - val_loss: 0.3821 - val_acc: 0.8407\n",
      "Epoch 3/15\n",
      "25000/25000 [==============================] - 527s 21ms/step - loss: 0.1186 - acc: 0.9569 - val_loss: 0.5192 - val_acc: 0.8381\n",
      "Epoch 4/15\n",
      "25000/25000 [==============================] - 547s 22ms/step - loss: 0.0610 - acc: 0.9792 - val_loss: 0.5722 - val_acc: 0.8239\n",
      "Epoch 5/15\n",
      "25000/25000 [==============================] - 549s 22ms/step - loss: 0.0424 - acc: 0.9856 - val_loss: 0.6640 - val_acc: 0.8306\n",
      "Epoch 6/15\n",
      "25000/25000 [==============================] - 561s 22ms/step - loss: 0.0279 - acc: 0.9902 - val_loss: 0.7126 - val_acc: 0.8276\n",
      "Epoch 7/15\n",
      "25000/25000 [==============================] - 561s 22ms/step - loss: 0.0166 - acc: 0.9945 - val_loss: 0.9862 - val_acc: 0.8233\n",
      "Epoch 8/15\n",
      "25000/25000 [==============================] - 555s 22ms/step - loss: 0.0165 - acc: 0.9941 - val_loss: 0.9016 - val_acc: 0.8166\n",
      "Epoch 9/15\n",
      "25000/25000 [==============================] - 561s 22ms/step - loss: 0.0151 - acc: 0.9947 - val_loss: 0.8768 - val_acc: 0.8250\n",
      "Epoch 10/15\n",
      "25000/25000 [==============================] - 568s 23ms/step - loss: 0.0093 - acc: 0.9968 - val_loss: 1.0236 - val_acc: 0.8247\n",
      "Epoch 11/15\n",
      "25000/25000 [==============================] - 567s 23ms/step - loss: 0.0158 - acc: 0.9948 - val_loss: 1.0816 - val_acc: 0.8260\n",
      "Epoch 12/15\n",
      "25000/25000 [==============================] - 579s 23ms/step - loss: 0.0070 - acc: 0.9981 - val_loss: 1.1277 - val_acc: 0.8216\n",
      "Epoch 13/15\n",
      "25000/25000 [==============================] - 572s 23ms/step - loss: 0.0087 - acc: 0.9969 - val_loss: 1.1739 - val_acc: 0.8317\n",
      "Epoch 14/15\n",
      "25000/25000 [==============================] - 584s 23ms/step - loss: 0.0085 - acc: 0.9973 - val_loss: 1.2256 - val_acc: 0.8208\n",
      "Epoch 15/15\n",
      "25000/25000 [==============================] - 593s 24ms/step - loss: 0.0057 - acc: 0.9982 - val_loss: 1.2240 - val_acc: 0.8180\n"
     ]
    },
    {
     "data": {
      "text/plain": [
       "<keras.callbacks.History at 0x28d02a00940>"
      ]
     },
     "execution_count": 7,
     "metadata": {},
     "output_type": "execute_result"
    }
   ],
   "source": [
    "print('Train...')\n",
    "model.fit(x_train, y_train,\n",
    "          batch_size=batch_size,\n",
    "          epochs=15,\n",
    "          validation_data=[x_test, y_test],\n",
    "          callbacks=[history])"
   ]
  },
  {
   "cell_type": "code",
   "execution_count": 8,
   "metadata": {},
   "outputs": [
    {
     "data": {
      "image/png": "[encoded data removed]",
      "text/plain": [
       "<Figure size 432x288 with 1 Axes>"
      ]
     },
     "metadata": {
      "needs_background": "light"
     },
     "output_type": "display_data"
    }
   ],
   "source": [
    "history.plot_loss('epoch')"
   ]
  },
  {
   "cell_type": "code",
   "execution_count": null,
   "metadata": {},
   "outputs": [],
   "source": []
  }
 ],
 "metadata": {
  "kernelspec": {
   "display_name": "Python 3",
   "language": "python",
   "name": "python3"
  },
  "language_info": {
   "codemirror_mode": {
    "name": "ipython",
    "version": 3
   },
   "file_extension": ".py",
   "mimetype": "text/x-python",
   "name": "python",
   "nbconvert_exporter": "python",
   "pygments_lexer": "ipython3",
   "version": "3.6.6"
  }
 },
 "nbformat": 4,
 "nbformat_minor": 2
}
