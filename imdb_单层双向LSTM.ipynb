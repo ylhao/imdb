{
 "cells": [
  {
   "cell_type": "code",
   "execution_count": 1,
   "metadata": {},
   "outputs": [
    {
     "name": "stderr",
     "output_type": "stream",
     "text": [
      "c:\\python36\\lib\\site-packages\\h5py\\__init__.py:36: FutureWarning: Conversion of the second argument of issubdtype from `float` to `np.floating` is deprecated. In future, it will be treated as `np.float64 == np.dtype(float).type`.\n",
      "  from ._conv import register_converters as _register_converters\n",
      "Using TensorFlow backend.\n"
     ]
    }
   ],
   "source": [
    "from __future__ import print_function\n",
    "import numpy as np\n",
    "import keras\n",
    "from keras.preprocessing import sequence\n",
    "from keras.models import Sequential\n",
    "from keras.layers import Dense, Dropout, Embedding, LSTM, Bidirectional\n",
    "from keras.datasets import imdb\n",
    "\n",
    "import matplotlib.pyplot as plt\n",
    "%matplotlib inline"
   ]
  },
  {
   "cell_type": "code",
   "execution_count": 2,
   "metadata": {},
   "outputs": [
    {
     "name": "stdout",
     "output_type": "stream",
     "text": [
      "Loading data...\n",
      "Downloading data from https://s3.amazonaws.com/text-datasets/imdb.npz\n",
      "17465344/17464789 [==============================] - 18s 1us/step\n",
      "25000 train sequences\n",
      "25000 test sequences\n",
      "Pad sequences (samples x time)\n",
      "x_train shape: (25000, 100)\n",
      "x_test shape: (25000, 100)\n"
     ]
    }
   ],
   "source": [
    "max_features = 20000  # 一共保留多少个不同的词作为特征\n",
    "maxlen = 100  # 每条数据保留的最多的词数\n",
    "batch_size = 32  # batch size\n",
    "\n",
    "print('Loading data...')\n",
    "(x_train, y_train), (x_test, y_test) = imdb.load_data(num_words=max_features)\n",
    "print(len(x_train), 'train sequences')\n",
    "print(len(x_test), 'test sequences')\n",
    "\n",
    "print('Pad sequences (samples x time)')\n",
    "x_train = sequence.pad_sequences(x_train, maxlen=maxlen)\n",
    "x_test = sequence.pad_sequences(x_test, maxlen=maxlen)\n",
    "print('x_train shape:', x_train.shape)\n",
    "print('x_test shape:', x_test.shape)\n",
    "y_train = np.array(y_train)\n",
    "y_test = np.array(y_test)"
   ]
  },
  {
   "cell_type": "code",
   "execution_count": 3,
   "metadata": {},
   "outputs": [],
   "source": [
    "model = Sequential()\n",
    "model.add(Embedding(max_features, 128, input_length=maxlen))  # 嵌入层\n",
    "model.add(Bidirectional(LSTM(64, activation='relu', return_sequences=False)))  # 64 代表的是隐层单元数（输出的维度数），但是因为是双向循环神经网络，所以输出维度为 128\n",
    "model.add(Dropout(0.5))\n",
    "model.add(Dense(1, activation='sigmoid'))"
   ]
  },
  {
   "cell_type": "code",
   "execution_count": 4,
   "metadata": {},
   "outputs": [
    {
     "name": "stdout",
     "output_type": "stream",
     "text": [
      "_________________________________________________________________\n",
      "Layer (type)                 Output Shape              Param #   \n",
      "=================================================================\n",
      "embedding_1 (Embedding)      (None, 100, 128)          2560000   \n",
      "_________________________________________________________________\n",
      "bidirectional_1 (Bidirection (None, 128)               98816     \n",
      "_________________________________________________________________\n",
      "dropout_1 (Dropout)          (None, 128)               0         \n",
      "_________________________________________________________________\n",
      "dense_1 (Dense)              (None, 1)                 129       \n",
      "=================================================================\n",
      "Total params: 2,658,945\n",
      "Trainable params: 2,658,945\n",
      "Non-trainable params: 0\n",
      "_________________________________________________________________\n"
     ]
    }
   ],
   "source": [
    "model.compile('adam', 'binary_crossentropy', metrics=['accuracy'])\n",
    "model.summary()"
   ]
  },
  {
   "cell_type": "code",
   "execution_count": 5,
   "metadata": {},
   "outputs": [],
   "source": [
    "class LossHistory(keras.callbacks.Callback):\n",
    "    \n",
    "    def on_train_begin(self, logs={}):\n",
    "        self.losses = {'batch': [], 'epoch': []}\n",
    "        self.accuracy = {'batch': [], 'epoch': []}\n",
    "        self.val_loss = {'batch': [], 'epoch': []}\n",
    "        self.val_acc = {'batch': [], 'epoch': []}\n",
    "\n",
    "    def on_batch_end(self, batch, logs={}):\n",
    "        self.losses['batch'].append(logs.get('loss'))\n",
    "        self.accuracy['batch'].append(logs.get('acc'))\n",
    "        self.val_loss['batch'].append(logs.get('val_loss'))\n",
    "        self.val_acc['batch'].append(logs.get('val_acc'))\n",
    "\n",
    "    def on_epoch_end(self, batch, logs={}):\n",
    "        self.losses['epoch'].append(logs.get('loss'))\n",
    "        self.accuracy['epoch'].append(logs.get('acc'))\n",
    "        self.val_loss['epoch'].append(logs.get('val_loss'))\n",
    "        self.val_acc['epoch'].append(logs.get('val_acc'))\n",
    "\n",
    "    def plot_loss(self, loss_type='epoch'):\n",
    "        iters = range(len(self.losses[loss_type]))\n",
    "        plt.figure()\n",
    "        plt.plot(iters, self.accuracy[loss_type], 'r', label='train acc')\n",
    "        plt.plot(iters, self.losses[loss_type], 'g', label='train loss')\n",
    "        if loss_type == 'epoch':\n",
    "            plt.plot(iters, self.val_acc[loss_type], 'b', label='val acc')\n",
    "            plt.plot(iters, self.val_loss[loss_type], 'k', label='val loss')\n",
    "        plt.grid(True)\n",
    "        plt.xlabel(loss_type)\n",
    "        plt.ylabel('acc-loss')\n",
    "        plt.legend(loc='upper right')\n",
    "        plt.show()\n",
    "\n",
    "history = LossHistory()"
   ]
  },
  {
   "cell_type": "code",
   "execution_count": 6,
   "metadata": {
    "scrolled": false
   },
   "outputs": [
    {
     "name": "stdout",
     "output_type": "stream",
     "text": [
      "Train...\n",
      "Train on 25000 samples, validate on 25000 samples\n",
      "Epoch 1/15\n",
      "25000/25000 [==============================] - 120s 5ms/step - loss: 0.8016 - acc: 0.7057 - val_loss: 0.5689 - val_acc: 0.7758\n",
      "Epoch 2/15\n",
      "25000/25000 [==============================] - 116s 5ms/step - loss: 1.0274 - acc: 0.7931 - val_loss: 1.9540 - val_acc: 0.7592\n",
      "Epoch 3/15\n",
      "25000/25000 [==============================] - 119s 5ms/step - loss: 1.0527 - acc: 0.8268 - val_loss: 0.9342 - val_acc: 0.7429\n",
      "Epoch 4/15\n",
      "25000/25000 [==============================] - 118s 5ms/step - loss: 0.4635 - acc: 0.8402 - val_loss: 0.4537 - val_acc: 0.7882\n",
      "Epoch 5/15\n",
      "25000/25000 [==============================] - 116s 5ms/step - loss: 0.7667 - acc: 0.8885 - val_loss: 0.7419 - val_acc: 0.8153\n",
      "Epoch 6/15\n",
      "25000/25000 [==============================] - 116s 5ms/step - loss: 0.3647 - acc: 0.9341 - val_loss: 0.6808 - val_acc: 0.8113\n",
      "Epoch 7/15\n",
      "25000/25000 [==============================] - 117s 5ms/step - loss: 0.3112 - acc: 0.9454 - val_loss: 0.5263 - val_acc: 0.7820\n",
      "Epoch 8/15\n",
      "25000/25000 [==============================] - 116s 5ms/step - loss: 4.2204 - acc: 0.7012 - val_loss: 8.0486 - val_acc: 0.5002\n",
      "Epoch 9/15\n",
      "25000/25000 [==============================] - 117s 5ms/step - loss: 7.8896 - acc: 0.5064 - val_loss: 8.0581 - val_acc: 0.5000\n",
      "Epoch 10/15\n",
      "25000/25000 [==============================] - 119s 5ms/step - loss: 8.0133 - acc: 0.5017 - val_loss: 8.0581 - val_acc: 0.5000\n",
      "Epoch 11/15\n",
      "25000/25000 [==============================] - 120s 5ms/step - loss: 8.0066 - acc: 0.5021 - val_loss: 8.0581 - val_acc: 0.5000\n",
      "Epoch 12/15\n",
      "25000/25000 [==============================] - 121s 5ms/step - loss: 8.1140 - acc: 0.4953 - val_loss: 8.0581 - val_acc: 0.5000\n",
      "Epoch 13/15\n",
      "25000/25000 [==============================] - 116s 5ms/step - loss: 8.0817 - acc: 0.4973 - val_loss: 8.0581 - val_acc: 0.5000\n",
      "Epoch 14/15\n",
      "25000/25000 [==============================] - 117s 5ms/step - loss: 7.8200 - acc: 0.5120 - val_loss: 8.0581 - val_acc: 0.5000\n",
      "Epoch 15/15\n",
      "25000/25000 [==============================] - 115s 5ms/step - loss: 7.9312 - acc: 0.5065 - val_loss: 7.9651 - val_acc: 0.5057\n"
     ]
    },
    {
     "data": {
      "text/plain": [
       "<keras.callbacks.History at 0x2202b6f6f60>"
      ]
     },
     "execution_count": 6,
     "metadata": {},
     "output_type": "execute_result"
    }
   ],
   "source": [
    "print('Train...')\n",
    "model.fit(x_train, y_train,\n",
    "          batch_size=batch_size,\n",
    "          epochs=15,\n",
    "          validation_data=[x_test, y_test],\n",
    "          callbacks=[history])"
   ]
  },
  {
   "cell_type": "code",
   "execution_count": 7,
   "metadata": {
    "scrolled": true
   },
   "outputs": [
    {
     "data": {
      "image/png": "[encoded data removed]",
      "text/plain": [
       "<Figure size 432x288 with 1 Axes>"
      ]
     },
     "metadata": {},
     "output_type": "display_data"
    }
   ],
   "source": [
    "history.plot_loss('epoch')"
   ]
  }
 ],
 "metadata": {
  "kernelspec": {
   "display_name": "Python 3",
   "language": "python",
   "name": "python3"
  },
  "language_info": {
   "codemirror_mode": {
    "name": "ipython",
    "version": 3
   },
   "file_extension": ".py",
   "mimetype": "text/x-python",
   "name": "python",
   "nbconvert_exporter": "python",
   "pygments_lexer": "ipython3",
   "version": "3.6.3"
  }
 },
 "nbformat": 4,
 "nbformat_minor": 2
}
