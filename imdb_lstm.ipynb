{
 "cells": [
  {
   "cell_type": "code",
   "execution_count": 1,
   "metadata": {},
   "outputs": [
    {
     "name": "stderr",
     "output_type": "stream",
     "text": [
      "Using TensorFlow backend.\n"
     ]
    }
   ],
   "source": [
    "'''Trains a Bidirectional LSTM on the IMDB sentiment classification task.\n",
    "Output after 4 epochs on CPU: ~0.8146\n",
    "Time per epoch on CPU (Core i7): ~150s.\n",
    "'''\n",
    "\n",
    "from __future__ import print_function\n",
    "import numpy as np\n",
    "import keras\n",
    "from keras.preprocessing import sequence\n",
    "from keras.models import Sequential\n",
    "from keras.layers import Dense, Dropout, Embedding, LSTM, Bidirectional\n",
    "from keras.datasets import imdb\n",
    "\n",
    "import matplotlib.pyplot as plt\n",
    "%matplotlib inline"
   ]
  },
  {
   "cell_type": "code",
   "execution_count": 2,
   "metadata": {},
   "outputs": [
    {
     "name": "stdout",
     "output_type": "stream",
     "text": [
      "Loading data...\n",
      "25000 train sequences\n",
      "25000 test sequences\n",
      "Pad sequences (samples x time)\n",
      "x_train shape: (25000, 100)\n",
      "x_test shape: (25000, 100)\n"
     ]
    }
   ],
   "source": [
    "max_features = 20000  # 一共保留多少个不同的词作为特征\n",
    "maxlen = 100  # 每条数据保留的最多的词数\n",
    "batch_size = 32\n",
    "\n",
    "print('Loading data...')\n",
    "(x_train, y_train), (x_test, y_test) = imdb.load_data(num_words=max_features)\n",
    "print(len(x_train), 'train sequences')\n",
    "print(len(x_test), 'test sequences')\n",
    "\n",
    "print('Pad sequences (samples x time)')\n",
    "x_train = sequence.pad_sequences(x_train, maxlen=maxlen)\n",
    "x_test = sequence.pad_sequences(x_test, maxlen=maxlen)\n",
    "print('x_train shape:', x_train.shape)\n",
    "print('x_test shape:', x_test.shape)\n",
    "y_train = np.array(y_train)\n",
    "y_test = np.array(y_test)"
   ]
  },
  {
   "cell_type": "code",
   "execution_count": 7,
   "metadata": {},
   "outputs": [],
   "source": [
    "model = Sequential()\n",
    "model.add(Embedding(max_features, 128, input_length=maxlen))  # 嵌入层\n",
    "model.add(Bidirectional(LSTM(64)))  # 64 代表的是隐层单元数（输出的维度数），但是因为是双向循环神经网络，所以输出维度为 128\n",
    "model.add(Dropout(0.5))\n",
    "model.add(Dense(1, activation='sigmoid'))"
   ]
  },
  {
   "cell_type": "code",
   "execution_count": 8,
   "metadata": {},
   "outputs": [],
   "source": [
    "# model = Sequential()\n",
    "# model.add(Embedding(max_features, 128, input_length=maxlen))  # 嵌入层\n",
    "# model.add(LSTM(64))  # 64 代表的是隐层单元数（输出的维度数）\n",
    "# model.add(Dropout(0.5))\n",
    "# model.add(Dense(1, activation='sigmoid'))"
   ]
  },
  {
   "cell_type": "code",
   "execution_count": 9,
   "metadata": {},
   "outputs": [
    {
     "name": "stdout",
     "output_type": "stream",
     "text": [
      "_________________________________________________________________\n",
      "Layer (type)                 Output Shape              Param #   \n",
      "=================================================================\n",
      "embedding_3 (Embedding)      (None, 100, 128)          2560000   \n",
      "_________________________________________________________________\n",
      "bidirectional_2 (Bidirection (None, 128)               98816     \n",
      "_________________________________________________________________\n",
      "dropout_3 (Dropout)          (None, 128)               0         \n",
      "_________________________________________________________________\n",
      "dense_3 (Dense)              (None, 1)                 129       \n",
      "=================================================================\n",
      "Total params: 2,658,945\n",
      "Trainable params: 2,658,945\n",
      "Non-trainable params: 0\n",
      "_________________________________________________________________\n"
     ]
    }
   ],
   "source": [
    "model.compile('adam', 'binary_crossentropy', metrics=['accuracy'])\n",
    "model.summary()"
   ]
  },
  {
   "cell_type": "code",
   "execution_count": 7,
   "metadata": {},
   "outputs": [],
   "source": [
    "class LossHistory(keras.callbacks.Callback):\n",
    "    \n",
    "    def on_train_begin(self, logs={}):\n",
    "        self.losses = {'batch': [], 'epoch': []}\n",
    "        self.accuracy = {'batch': [], 'epoch': []}\n",
    "        self.val_loss = {'batch': [], 'epoch': []}\n",
    "        self.val_acc = {'batch': [], 'epoch': []}\n",
    "\n",
    "    def on_batch_end(self, batch, logs={}):\n",
    "        self.losses['batch'].append(logs.get('loss'))\n",
    "        self.accuracy['batch'].append(logs.get('acc'))\n",
    "        self.val_loss['batch'].append(logs.get('val_loss'))\n",
    "        self.val_acc['batch'].append(logs.get('val_acc'))\n",
    "\n",
    "    def on_epoch_end(self, batch, logs={}):\n",
    "        self.losses['epoch'].append(logs.get('loss'))\n",
    "        self.accuracy['epoch'].append(logs.get('acc'))\n",
    "        self.val_loss['epoch'].append(logs.get('val_loss'))\n",
    "        self.val_acc['epoch'].append(logs.get('val_acc'))\n",
    "\n",
    "    def plot_loss(self, loss_type='epoch'):\n",
    "        iters = range(len(self.losses[loss_type]))\n",
    "        plt.figure()\n",
    "        plt.plot(iters, self.accuracy[loss_type], 'r', label='train acc')\n",
    "        plt.plot(iters, self.losses[loss_type], 'g', label='train loss')\n",
    "        if loss_type == 'epoch':\n",
    "            plt.plot(iters, self.val_acc[loss_type], 'b', label='val acc')\n",
    "            plt.plot(iters, self.val_loss[loss_type], 'k', label='val loss')\n",
    "        plt.grid(True)\n",
    "        plt.xlabel(loss_type)\n",
    "        plt.ylabel('acc-loss')\n",
    "        plt.legend(loc='upper right')\n",
    "        plt.show()\n",
    "\n",
    "history = LossHistory()"
   ]
  },
  {
   "cell_type": "code",
   "execution_count": 8,
   "metadata": {
    "scrolled": false
   },
   "outputs": [
    {
     "name": "stdout",
     "output_type": "stream",
     "text": [
      "Train...\n",
      "Train on 25000 samples, validate on 25000 samples\n",
      "Epoch 1/15\n",
      "25000/25000 [==============================] - 342s 14ms/step - loss: 0.4112 - acc: 0.8118 - val_loss: 0.3615 - val_acc: 0.8428\n",
      "Epoch 2/15\n",
      "25000/25000 [==============================] - 361s 14ms/step - loss: 0.2258 - acc: 0.9106 - val_loss: 0.4173 - val_acc: 0.8429\n",
      "Epoch 3/15\n",
      "25000/25000 [==============================] - 357s 14ms/step - loss: 0.1284 - acc: 0.9520 - val_loss: 0.4672 - val_acc: 0.8366\n",
      "Epoch 4/15\n",
      "25000/25000 [==============================] - 356s 14ms/step - loss: 0.0764 - acc: 0.9748 - val_loss: 0.5681 - val_acc: 0.8335\n",
      "Epoch 5/15\n",
      "25000/25000 [==============================] - 326s 13ms/step - loss: 0.0395 - acc: 0.9866 - val_loss: 0.7704 - val_acc: 0.8365\n",
      "Epoch 6/15\n",
      "25000/25000 [==============================] - 317s 13ms/step - loss: 0.0311 - acc: 0.9901 - val_loss: 0.7784 - val_acc: 0.8230\n",
      "Epoch 7/15\n",
      "25000/25000 [==============================] - 330s 13ms/step - loss: 0.0243 - acc: 0.9925 - val_loss: 0.8045 - val_acc: 0.8001\n",
      "Epoch 8/15\n",
      "25000/25000 [==============================] - 338s 14ms/step - loss: 0.0164 - acc: 0.9952 - val_loss: 0.9086 - val_acc: 0.8318\n",
      "Epoch 9/15\n",
      "25000/25000 [==============================] - 344s 14ms/step - loss: 0.0125 - acc: 0.9962 - val_loss: 0.8597 - val_acc: 0.8308\n",
      "Epoch 10/15\n",
      "25000/25000 [==============================] - 346s 14ms/step - loss: 0.0090 - acc: 0.9973 - val_loss: 0.9912 - val_acc: 0.8277\n",
      "Epoch 11/15\n",
      "25000/25000 [==============================] - 475s 19ms/step - loss: 0.0122 - acc: 0.9958 - val_loss: 0.9388 - val_acc: 0.8169\n",
      "Epoch 12/15\n",
      "25000/25000 [==============================] - 435s 17ms/step - loss: 0.0102 - acc: 0.9968 - val_loss: 0.8840 - val_acc: 0.8261\n",
      "Epoch 13/15\n",
      "25000/25000 [==============================] - 423s 17ms/step - loss: 0.0083 - acc: 0.9974 - val_loss: 1.2506 - val_acc: 0.8223\n",
      "Epoch 14/15\n",
      "25000/25000 [==============================] - 404s 16ms/step - loss: 0.0148 - acc: 0.9955 - val_loss: 1.0253 - val_acc: 0.8244\n",
      "Epoch 15/15\n",
      "25000/25000 [==============================] - 436s 17ms/step - loss: 0.0049 - acc: 0.9985 - val_loss: 1.1879 - val_acc: 0.8295\n"
     ]
    },
    {
     "data": {
      "text/plain": [
       "<keras.callbacks.History at 0x28e69b98208>"
      ]
     },
     "execution_count": 8,
     "metadata": {},
     "output_type": "execute_result"
    }
   ],
   "source": [
    "print('Train...')\n",
    "model.fit(x_train, y_train,\n",
    "          batch_size=batch_size,\n",
    "          epochs=15,\n",
    "          validation_data=[x_test, y_test],\n",
    "          callbacks=[history])"
   ]
  },
  {
   "cell_type": "code",
   "execution_count": 9,
   "metadata": {},
   "outputs": [
    {
     "data": {
      "image/png": "[encoded data removed]",
      "text/plain": [
       "<Figure size 432x288 with 1 Axes>"
      ]
     },
     "metadata": {
      "needs_background": "light"
     },
     "output_type": "display_data"
    }
   ],
   "source": [
    "history.plot_loss('epoch')"
   ]
  },
  {
   "cell_type": "code",
   "execution_count": null,
   "metadata": {},
   "outputs": [],
   "source": []
  }
 ],
 "metadata": {
  "kernelspec": {
   "display_name": "Python 3",
   "language": "python",
   "name": "python3"
  },
  "language_info": {
   "codemirror_mode": {
    "name": "ipython",
    "version": 3
   },
   "file_extension": ".py",
   "mimetype": "text/x-python",
   "name": "python",
   "nbconvert_exporter": "python",
   "pygments_lexer": "ipython3",
   "version": "3.6.6"
  }
 },
 "nbformat": 4,
 "nbformat_minor": 2
}
