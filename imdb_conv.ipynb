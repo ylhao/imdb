{
 "cells": [
  {
   "cell_type": "code",
   "execution_count": 6,
   "metadata": {},
   "outputs": [],
   "source": [
    "'''Trains a Bidirectional LSTM on the IMDB sentiment classification task.\n",
    "Output after 4 epochs on CPU: ~0.8146\n",
    "Time per epoch on CPU (Core i7): ~150s.\n",
    "'''\n",
    "\n",
    "from __future__ import print_function\n",
    "import numpy as np\n",
    "np.random.seed(1337)  # 为了复现\n",
    "import keras\n",
    "from keras.preprocessing import sequence\n",
    "from keras.models import Sequential\n",
    "from keras.layers import Dense, Dropout, Activation\n",
    "from keras.layers import Embedding\n",
    "from keras.layers import Convolution1D, GlobalMaxPooling1D\n",
    "from keras.datasets import imdb"
   ]
  },
  {
   "cell_type": "code",
   "execution_count": 2,
   "metadata": {},
   "outputs": [
    {
     "name": "stdout",
     "output_type": "stream",
     "text": [
      "Loading data...\n",
      "25000 train sequences\n",
      "25000 test sequences\n",
      "Pad sequences (samples x time)\n",
      "x_train shape: (25000, 400)\n",
      "x_test shape: (25000, 400)\n"
     ]
    }
   ],
   "source": [
    "max_features = 5000  # 保留词数\n",
    "maxlen = 400  # 每篇文章的最大长度\n",
    "batch_size = 32\n",
    "embedding_dims = 50  # 嵌入层维度\n",
    "nb_filter = 250  # 过滤器的数目\n",
    "filter_length = 3  # 过滤器的维度\n",
    "hidden_dims = 250  # 全连层隐藏层单元数\n",
    "nb_epoch = 10  # epoch\n",
    "\n",
    "print('Loading data...')\n",
    "(x_train, y_train), (x_test, y_test) = imdb.load_data(num_words=max_features)\n",
    "print(len(x_train), 'train sequences')\n",
    "print(len(x_test), 'test sequences')\n",
    "\n",
    "print('Pad sequences (samples x time)')\n",
    "x_train = sequence.pad_sequences(x_train, maxlen=maxlen)\n",
    "x_test = sequence.pad_sequences(x_test, maxlen=maxlen)\n",
    "print('x_train shape:', x_train.shape)\n",
    "print('x_test shape:', x_test.shape)\n",
    "y_train = np.array(y_train)\n",
    "y_test = np.array(y_test)"
   ]
  },
  {
   "cell_type": "code",
   "execution_count": 3,
   "metadata": {
    "scrolled": true
   },
   "outputs": [
    {
     "name": "stdout",
     "output_type": "stream",
     "text": [
      "Build model...\n",
      "_________________________________________________________________\n",
      "Layer (type)                 Output Shape              Param #   \n",
      "=================================================================\n",
      "embedding_1 (Embedding)      (None, 400, 50)           250000    \n",
      "_________________________________________________________________\n",
      "conv1d_1 (Conv1D)            (None, 398, 250)          37750     \n",
      "_________________________________________________________________\n",
      "global_max_pooling1d_1 (Glob (None, 250)               0         \n",
      "_________________________________________________________________\n",
      "dense_1 (Dense)              (None, 250)               62750     \n",
      "_________________________________________________________________\n",
      "dropout_1 (Dropout)          (None, 250)               0         \n",
      "_________________________________________________________________\n",
      "activation_1 (Activation)    (None, 250)               0         \n",
      "_________________________________________________________________\n",
      "dense_2 (Dense)              (None, 1)                 251       \n",
      "_________________________________________________________________\n",
      "activation_2 (Activation)    (None, 1)                 0         \n",
      "=================================================================\n",
      "Total params: 350,751\n",
      "Trainable params: 350,751\n",
      "Non-trainable params: 0\n",
      "_________________________________________________________________\n"
     ]
    },
    {
     "name": "stderr",
     "output_type": "stream",
     "text": [
      "/home/ubuntu/anaconda3/lib/python3.6/site-packages/ipykernel_launcher.py:11: UserWarning: The `dropout` argument is no longer support in `Embedding`. You can apply a `keras.layers.SpatialDropout1D` layer right after the `Embedding` layer to get the same behavior.\n",
      "  # This is added back by InteractiveShellApp.init_path()\n",
      "/home/ubuntu/anaconda3/lib/python3.6/site-packages/ipykernel_launcher.py:20: UserWarning: Update your `Conv1D` call to the Keras 2 API: `Conv1D(activation=\"relu\", filters=250, kernel_size=3, strides=1, padding=\"valid\")`\n"
     ]
    }
   ],
   "source": [
    "print('Build model...')\n",
    "model = Sequential()\n",
    "model.add(Embedding(max_features,\n",
    "                    embedding_dims,\n",
    "                    input_length=maxlen,\n",
    "                    dropout=0.2))\n",
    "# 400 * 50\n",
    "# 卷积核实际上是：3 * 50\n",
    "# 卷积以后是一个维度为 398 的一维向量\n",
    "# 250 个卷积核，那么就是 250 个维度为 398 的一维向量\n",
    "# 经过全局平均池化以后，每个 398 维的一维向量得到一个实数，所以全局平均池化以后得到一个 250 维的向量\n",
    "model.add(Convolution1D(nb_filter=nb_filter,  # 卷积核个数\n",
    "                        filter_length=filter_length,  # 卷积核维数\n",
    "                        border_mode='valid',\n",
    "                        activation='relu',\n",
    "                        subsample_length=1))\n",
    "model.add(GlobalMaxPooling1D())\n",
    "model.add(Dense(hidden_dims))  # 全连层\n",
    "model.add(Dropout(0.2))  # 防止过拟合\n",
    "model.add(Activation('relu'))\n",
    "model.add(Dense(1))\n",
    "model.add(Activation('sigmoid'))\n",
    "model.summary()"
   ]
  },
  {
   "cell_type": "code",
   "execution_count": 4,
   "metadata": {},
   "outputs": [],
   "source": [
    "model.compile('adam', 'binary_crossentropy', metrics=['accuracy'])"
   ]
  },
  {
   "cell_type": "code",
   "execution_count": 7,
   "metadata": {},
   "outputs": [],
   "source": [
    "class LossHistory(keras.callbacks.Callback):\n",
    "    \n",
    "    def on_train_begin(self, logs={}):\n",
    "        self.losses = {'batch': [], 'epoch': []}\n",
    "        self.accuracy = {'batch': [], 'epoch': []}\n",
    "        self.val_loss = {'batch': [], 'epoch': []}\n",
    "        self.val_acc = {'batch': [], 'epoch': []}\n",
    "\n",
    "    def on_batch_end(self, batch, logs={}):\n",
    "        self.losses['batch'].append(logs.get('loss'))\n",
    "        self.accuracy['batch'].append(logs.get('acc'))\n",
    "        self.val_loss['batch'].append(logs.get('val_loss'))\n",
    "        self.val_acc['batch'].append(logs.get('val_acc'))\n",
    "\n",
    "    def on_epoch_end(self, batch, logs={}):\n",
    "        self.losses['epoch'].append(logs.get('loss'))\n",
    "        self.accuracy['epoch'].append(logs.get('acc'))\n",
    "        self.val_loss['epoch'].append(logs.get('val_loss'))\n",
    "        self.val_acc['epoch'].append(logs.get('val_acc'))\n",
    "\n",
    "    def plot_loss(self, loss_type='epoch'):\n",
    "        iters = range(len(self.losses[loss_type]))\n",
    "        plt.figure()\n",
    "        plt.plot(iters, self.accuracy[loss_type], 'r', label='train acc')\n",
    "        plt.plot(iters, self.losses[loss_type], 'g', label='train loss')\n",
    "        if loss_type == 'epoch':\n",
    "            plt.plot(iters, self.val_acc[loss_type], 'b', label='val acc')\n",
    "            plt.plot(iters, self.val_loss[loss_type], 'k', label='val loss')\n",
    "        plt.grid(True)\n",
    "        plt.xlabel(loss_type)\n",
    "        plt.ylabel('acc-loss')\n",
    "        plt.legend(loc='upper right')\n",
    "        plt.show()\n",
    "\n",
    "history = LossHistory()"
   ]
  },
  {
   "cell_type": "code",
   "execution_count": 8,
   "metadata": {
    "scrolled": true
   },
   "outputs": [
    {
     "name": "stdout",
     "output_type": "stream",
     "text": [
      "Train...\n",
      "Train on 25000 samples, validate on 25000 samples\n",
      "Epoch 1/15\n",
      "25000/25000 [==============================] - 6s 245us/step - loss: 0.3901 - acc: 0.8105 - val_loss: 0.2703 - val_acc: 0.8858\n",
      "Epoch 2/15\n",
      "25000/25000 [==============================] - 4s 150us/step - loss: 0.2006 - acc: 0.9232 - val_loss: 0.2553 - val_acc: 0.8938\n",
      "Epoch 3/15\n",
      "25000/25000 [==============================] - 4s 150us/step - loss: 0.1089 - acc: 0.9621 - val_loss: 0.3101 - val_acc: 0.8839\n",
      "Epoch 4/15\n",
      "25000/25000 [==============================] - 4s 150us/step - loss: 0.0442 - acc: 0.9862 - val_loss: 0.4186 - val_acc: 0.8810\n",
      "Epoch 5/15\n",
      "25000/25000 [==============================] - 4s 150us/step - loss: 0.0247 - acc: 0.9920 - val_loss: 0.4470 - val_acc: 0.8852\n",
      "Epoch 6/15\n",
      "25000/25000 [==============================] - 4s 150us/step - loss: 0.0199 - acc: 0.9934 - val_loss: 0.5307 - val_acc: 0.8812\n",
      "Epoch 7/15\n",
      "25000/25000 [==============================] - 4s 150us/step - loss: 0.0204 - acc: 0.9926 - val_loss: 0.5336 - val_acc: 0.8834\n",
      "Epoch 8/15\n",
      "25000/25000 [==============================] - 4s 150us/step - loss: 0.0147 - acc: 0.9947 - val_loss: 0.6437 - val_acc: 0.8812\n",
      "Epoch 9/15\n",
      "25000/25000 [==============================] - 4s 150us/step - loss: 0.0154 - acc: 0.9940 - val_loss: 0.8148 - val_acc: 0.8628\n",
      "Epoch 10/15\n",
      "25000/25000 [==============================] - 4s 151us/step - loss: 0.0133 - acc: 0.9951 - val_loss: 0.6349 - val_acc: 0.8799\n",
      "Epoch 11/15\n",
      "25000/25000 [==============================] - 4s 150us/step - loss: 0.0144 - acc: 0.9946 - val_loss: 0.9466 - val_acc: 0.8512\n",
      "Epoch 12/15\n",
      "25000/25000 [==============================] - 4s 153us/step - loss: 0.0128 - acc: 0.9952 - val_loss: 0.6562 - val_acc: 0.8816\n",
      "Epoch 13/15\n",
      "25000/25000 [==============================] - 4s 151us/step - loss: 0.0050 - acc: 0.9982 - val_loss: 0.7873 - val_acc: 0.8840\n",
      "Epoch 14/15\n",
      "25000/25000 [==============================] - 4s 150us/step - loss: 0.0103 - acc: 0.9963 - val_loss: 0.6742 - val_acc: 0.8809\n",
      "Epoch 15/15\n",
      "25000/25000 [==============================] - 4s 155us/step - loss: 0.0132 - acc: 0.9952 - val_loss: 0.6202 - val_acc: 0.8791\n"
     ]
    },
    {
     "data": {
      "text/plain": [
       "<keras.callbacks.History at 0x7f65dd518048>"
      ]
     },
     "execution_count": 8,
     "metadata": {},
     "output_type": "execute_result"
    }
   ],
   "source": [
    "print('Train...')\n",
    "model.fit(x_train, y_train,\n",
    "          batch_size=batch_size,\n",
    "          epochs=15,\n",
    "          validation_data=[x_test, y_test],\n",
    "          callbacks=[history])"
   ]
  },
  {
   "cell_type": "code",
   "execution_count": 10,
   "metadata": {},
   "outputs": [
    {
     "data": {
      "image/png": "[encoded data removed]",
      "text/plain": [
       "<Figure size 432x288 with 1 Axes>"
      ]
     },
     "metadata": {},
     "output_type": "display_data"
    }
   ],
   "source": [
    "import matplotlib.pyplot as plt\n",
    "%matplotlib inline\n",
    "history.plot_loss('epoch')"
   ]
  },
  {
   "cell_type": "code",
   "execution_count": 11,
   "metadata": {},
   "outputs": [
    {
     "data": {
      "image/png": "[encoded data removed]",
      "text/plain": [
       "<Figure size 432x288 with 1 Axes>"
      ]
     },
     "metadata": {},
     "output_type": "display_data"
    }
   ],
   "source": [
    "history.plot_loss('batch')"
   ]
  }
 ],
 "metadata": {
  "kernelspec": {
   "display_name": "Python 3",
   "language": "python",
   "name": "python3"
  },
  "language_info": {
   "codemirror_mode": {
    "name": "ipython",
    "version": 3
   },
   "file_extension": ".py",
   "mimetype": "text/x-python",
   "name": "python",
   "nbconvert_exporter": "python",
   "pygments_lexer": "ipython3",
   "version": "3.6.6"
  }
 },
 "nbformat": 4,
 "nbformat_minor": 2
}
